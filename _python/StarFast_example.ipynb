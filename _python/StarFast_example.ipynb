{
 "cells": [
  {
   "cell_type": "markdown",
   "metadata": {
    "collapsed": false
   },
   "source": [
    "# StarFast example notebook\n",
    "This notebook was used to generate all of the images in DMTN-012 (https://github.com/lsst-dm/dmtn-012/blob/master/index.rst), and illustrates the basic uses of StarFast.\n",
    "\n",
    "For these examples, I am using a reference image at close to zenith (airmass 1.00), and an \"observed\" image taken at airmass 1.2 for simple image differencing (with and without noise). I have not included any attempt at PSF matching, and so the dipoles for most objects are worse. However, this notebook is examining the effect of Differential Chromatic Refraction (DCR) and I want the effects to be unambiguous. Also, note that the dipoles may be in different directions between very hot and very cool stars! In some cases, standard PSF matching might make the dipoles of very hot and rare objects worse.\n",
    "\n",
    "In the first section, I use star_sim to generate simulated images with 10,000 stars from a catalog \n"
   ]
  },
  {
   "cell_type": "code",
   "execution_count": 1,
   "metadata": {
    "collapsed": false
   },
   "outputs": [],
   "source": [
    "%matplotlib inline\n",
    "import galsim \n",
    "import lsst.afw.geom as afwGeom\n",
    "from lsst.sims.photUtils import matchStar\n",
    "import numpy as np\n",
    "import time\n",
    "from look import look\n",
    "from StarFast import star_sim\n",
    "from fast_dft import fast_dft"
   ]
  },
  {
   "cell_type": "code",
   "execution_count": 2,
   "metadata": {
    "collapsed": true
   },
   "outputs": [],
   "source": [
    "%%capture\n",
    "matchStarObj=matchStar()\n",
    "sed_list = matchStarObj.loadKuruczSEDs()"
   ]
  },
  {
   "cell_type": "code",
   "execution_count": 3,
   "metadata": {
    "collapsed": true
   },
   "outputs": [],
   "source": [
    "seed = 5\n",
    "dimension = 1024 # number of pixels on a side of the simulation\n",
    "pad_image = 1.5 # \n",
    "n_star = 10000\n",
    "pixel_scale = 0.25 # arcsec / pixel\n",
    "band_name = 'u'  # vaild options are 'u', 'g', 'r', 'i', 'z', or 'y'\n",
    "hottest_star='O' # vaild options are None (defaults to 'A') or any stellar type OBAFGKM hotter than coolest star\n",
    "coolest_star='K' # vaild options are None (defaults to 'M') or any stellar type OBAFGKM cooler than hottest star\n",
    "wavelength_step = 3 # wavelength bin size, in nm\n",
    "photons_per_adu = 1e4\n",
    "gsp = galsim.GSParams(folding_threshold=1.0/(dimension), maximum_fft_size=12288)\n",
    "psf = galsim.Kolmogorov(fwhm=1.0, flux=1, gsparams=gsp)\n",
    "\n",
    "ref_elevation = 85.0 # in degrees\n",
    "ref_azimuth = 0.0 # in degrees\n",
    "\n",
    "obs_elevation = 90.0 - 33.6 # in degrees\n",
    "obs_azimuth = 20.0 # in degrees"
   ]
  },
  {
   "cell_type": "code",
   "execution_count": null,
   "metadata": {
    "collapsed": false
   },
   "outputs": [],
   "source": [
    "sky_noise = 0.0\n",
    "instrument_noise = 0.0\n",
    "photon_noise = False\n",
    "timing_ref = -time.time()\n",
    "ref_image=star_sim(seed=seed, psf=psf,n_star=n_star, x_size=dimension, y_size=dimension,\n",
    "                    sky_noise=sky_noise, photon_noise=photon_noise,\n",
    "                    instrument_noise=instrument_noise, pixel_scale=pixel_scale, dcr_flag=False,\n",
    "                    elevation=ref_elevation, azimuth=ref_azimuth, band_name=band_name, wavelength_step=wavelength_step,\n",
    "                    hottest_star=hottest_star, coolest_star=coolest_star,sed_list=sed_list, pad_image=pad_image)\n",
    "timing_ref += time.time()\n",
    "print(\"Total time to generate reference image: \", timing_ref)\n",
    "timing_obs = -time.time()\n",
    "obs_image=star_sim(seed=seed, psf=psf,n_star=n_star, x_size=dimension, y_size=dimension,\n",
    "                    sky_noise=sky_noise, photon_noise=photon_noise,\n",
    "                     instrument_noise=instrument_noise, pixel_scale=pixel_scale, dcr_flag=True,\n",
    "                     elevation=obs_elevation, azimuth=obs_azimuth, band_name=band_name, wavelength_step=wavelength_step,\n",
    "                     hottest_star=hottest_star, coolest_star=coolest_star,sed_list=sed_list, pad_image=pad_image)\n",
    "timing_obs +=  time.time()\n",
    "print(\"Total time to generate observed image: \", timing_obs)"
   ]
  },
  {
   "cell_type": "code",
   "execution_count": null,
   "metadata": {
    "collapsed": true
   },
   "outputs": [],
   "source": [
    "sky_noise = 0.001\n",
    "instrument_noise = 0.001\n",
    "photon_noise = False\n",
    "timing_ref = -time.time()\n",
    "ref_image_addnoise=star_sim(seed=seed, psf=psf,n_star=n_star, x_size=dimension, y_size=dimension,\n",
    "                    sky_noise=sky_noise, photon_noise=photon_noise,\n",
    "                    instrument_noise=instrument_noise, pixel_scale=pixel_scale, dcr_flag=False,\n",
    "                    elevation=ref_elevation, azimuth=ref_azimuth, band_name=band_name, wavelength_step=wavelength_step,\n",
    "                    hottest_star=hottest_star, coolest_star=coolest_star,sed_list=sed_list, pad_image=pad_image)\n",
    "\n",
    "timing_ref += time.time()\n",
    "print(\"Total time to generate reference image: \", timing_ref)\n",
    "timing_obs = -time.time()\n",
    "obs_image_addnoise=star_sim(seed=seed, psf=psf,n_star=n_star, x_size=dimension, y_size=dimension,\n",
    "                    sky_noise=sky_noise, photon_noise=photon_noise,\n",
    "                     instrument_noise=instrument_noise, pixel_scale=pixel_scale, dcr_flag=True,\n",
    "                     elevation=obs_elevation, azimuth=obs_azimuth, band_name=band_name, wavelength_step=wavelength_step,\n",
    "                     hottest_star=hottest_star, coolest_star=coolest_star,sed_list=sed_list, pad_image=pad_image)\n",
    "timing_obs +=  time.time()\n",
    "print(\"Total time to generate observed image: \", timing_obs)"
   ]
  },
  {
   "cell_type": "code",
   "execution_count": null,
   "metadata": {
    "collapsed": true
   },
   "outputs": [],
   "source": [
    "look(ref_image, range=[0.0,.01])\n",
    "look(obs_image, range=[0.0,.01])\n",
    "print(\"Sum of reference image: \", np.sum(ref_image))\n",
    "print(\"Sum of DCR image: \", np.sum(obs_image))\n",
    "obs_sum = np.sum(np.abs(obs_image))\n",
    "ref_sum = np.sum(np.abs(ref_image))\n",
    "diff = 2 * np.abs(obs_sum - ref_sum)/(obs_sum + ref_sum)\n",
    "print(\"Difference: \", 100 * diff, \"percent\")\n",
    "look(ref_image - obs_image, range=[-0.001, 0.001])"
   ]
  },
  {
   "cell_type": "code",
   "execution_count": null,
   "metadata": {
    "collapsed": true
   },
   "outputs": [],
   "source": [
    "from matplotlib import pyplot as plt\n",
    "import matplotlib\n",
    "import matplotlib.cm as cm"
   ]
  },
  {
   "cell_type": "code",
   "execution_count": null,
   "metadata": {
    "collapsed": true
   },
   "outputs": [],
   "source": [
    "fig = plt.figure(figsize=(10, 10), dpi=300)\n",
    "fig_show = plt.imshow(np.clip(np.log10(np.abs(ref_image)),-4, np.Inf), interpolation='none', origin='lower', cmap=cm.rainbow)\n",
    "cbar=plt.colorbar(fig_show, orientation='horizontal', shrink=.8)\n",
    "cbar.set_label('Log flux (Janskys)', labelpad=0, rotation=0)\n",
    "# plt.savefig('ref_img10000_log.png',bbox_inches='tight', dpi=300)\n",
    "\n",
    "fig = plt.figure(figsize=(10, 10), dpi=300)\n",
    "fig_show = plt.imshow(np.clip(np.log10(np.abs(ref_image_addnoise)),-4, np.Inf), interpolation='none', origin='lower', cmap=cm.rainbow)\n",
    "cbar=plt.colorbar(fig_show, orientation='horizontal', shrink=.8)\n",
    "cbar.set_label('Log flux (Janskys)', labelpad=0, rotation=0)\n",
    "# plt.savefig('ref_img10000_log_addnoise.png',bbox_inches='tight', dpi=300)"
   ]
  },
  {
   "cell_type": "code",
   "execution_count": null,
   "metadata": {
    "collapsed": true
   },
   "outputs": [],
   "source": [
    "fig = plt.figure(figsize=(10,10), dpi=300)\n",
    "fig_show = plt.imshow(np.clip(ref_image,0,0.01), interpolation='none', origin='lower', cmap=cm.rainbow)\n",
    "cbar=plt.colorbar(fig_show, orientation='horizontal', shrink=.8)\n",
    "cbar.set_label('Flux (Janskys)', labelpad=0, rotation=0)\n",
    "# plt.savefig('ref_img10000_linear.png',bbox_inches='tight', dpi=300)\n",
    "\n",
    "fig = plt.figure(figsize=(10,10), dpi=300)\n",
    "fig_show = plt.imshow(np.clip(ref_image_addnoise,0,0.01), interpolation='none', origin='lower', cmap=cm.rainbow)\n",
    "cbar=plt.colorbar(fig_show, orientation='horizontal', shrink=.8)\n",
    "cbar.set_label('Flux (Janskys)', labelpad=0, rotation=0)\n",
    "# plt.savefig('ref_img10000_linear_addnoise.png',bbox_inches='tight', dpi=300)"
   ]
  },
  {
   "cell_type": "code",
   "execution_count": null,
   "metadata": {
    "collapsed": true
   },
   "outputs": [],
   "source": [
    "fig = plt.figure(figsize=(10,10), dpi=300)\n",
    "dcr_color_scale=1e-3\n",
    "fig_show = plt.imshow(np.clip(ref_image-obs_image,-dcr_color_scale, dcr_color_scale), interpolation='none', origin='lower', cmap=cm.rainbow)\n",
    "cbar=plt.colorbar(fig_show, orientation='horizontal', shrink=.8)\n",
    "cbar.set_label('Flux (Janskys)', labelpad=0, rotation=0)\n",
    "# plt.savefig('dcr_img10000_linear.png',bbox_inches='tight', dpi=300)\n",
    "\n",
    "fig = plt.figure(figsize=(10,10), dpi=300)\n",
    "fig_show = plt.imshow(np.clip(ref_image_addnoise-obs_image_addnoise,-dcr_color_scale, dcr_color_scale), interpolation='none', origin='lower', cmap=cm.rainbow)\n",
    "cbar=plt.colorbar(fig_show, orientation='horizontal', shrink=.8)\n",
    "cbar.set_label('Flux (Janskys)', labelpad=0, rotation=0)\n",
    "# plt.savefig('dcr_img10000_linear_addnoise.png',bbox_inches='tight', dpi=300)"
   ]
  },
  {
   "cell_type": "code",
   "execution_count": null,
   "metadata": {
    "collapsed": true
   },
   "outputs": [],
   "source": [
    "dimension = 64 # number of pixels on a side of the simulation\n",
    "pad_image = 1.5 # \n",
    "sky_noise = 0.0\n",
    "instrument_noise = 0.0\n",
    "photon_noise = False\n",
    "n_star = 1\n",
    "verbose = False"
   ]
  },
  {
   "cell_type": "code",
   "execution_count": null,
   "metadata": {
    "collapsed": true
   },
   "outputs": [],
   "source": [
    "band_name = 'u'  # vaild options are 'u', 'g', 'r', 'i', 'z', or 'y'\n",
    "hottest_star='O' # vaild options are None (defaults to 'A') or any stellar type OBAFGKM hotter than coolest star\n",
    "coolest_star='O' # vaild options are None (defaults to 'M') or any stellar type OBAFGKM cooler than hottest star\n",
    "\n",
    "ref_image_u_O=cat_image(seed=seed, psf=psf,n_star=n_star, x_size=dimension, y_size=dimension,\n",
    "                    sky_noise=sky_noise, photon_noise=photon_noise,verbose=verbose,\n",
    "                    instrument_noise=instrument_noise, pixel_scale=pixel_scale, dcr_flag=False,\n",
    "                    elevation=ref_elevation, azimuth=ref_azimuth, band_name=band_name, wavelength_step=wavelength_step,\n",
    "                    hottest_star=hottest_star, coolest_star=coolest_star,sed_list=sed_list, pad_image=pad_image)\n",
    "\n",
    "obs_image_u_O=cat_image(seed=seed, psf=psf,n_star=n_star, x_size=dimension, y_size=dimension,\n",
    "                    sky_noise=sky_noise, photon_noise=photon_noise,verbose=verbose,\n",
    "                     instrument_noise=instrument_noise, pixel_scale=pixel_scale, dcr_flag=True,\n",
    "                     elevation=obs_elevation, azimuth=obs_azimuth, band_name=band_name, wavelength_step=wavelength_step,\n",
    "                     hottest_star=hottest_star, coolest_star=coolest_star,sed_list=sed_list, pad_image=pad_image)\n",
    "look(ref_image_u_O - obs_image_u_O, range=[-0.02, 0.02])"
   ]
  },
  {
   "cell_type": "code",
   "execution_count": null,
   "metadata": {
    "collapsed": true
   },
   "outputs": [],
   "source": [
    "band_name = 'u'  # vaild options are 'u', 'g', 'r', 'i', 'z', or 'y'\n",
    "hottest_star='B' # vaild options are None (defaults to 'A') or any stellar type OBAFGKM hotter than coolest star\n",
    "coolest_star='B' # vaild options are None (defaults to 'M') or any stellar type OBAFGKM cooler than hottest star\n",
    "\n",
    "ref_image_u_B=cat_image(seed=seed, psf=psf,n_star=n_star, x_size=dimension, y_size=dimension,\n",
    "                    sky_noise=sky_noise, photon_noise=photon_noise,verbose=verbose,\n",
    "                    instrument_noise=instrument_noise, pixel_scale=pixel_scale, dcr_flag=False,\n",
    "                    elevation=ref_elevation, azimuth=ref_azimuth, band_name=band_name, wavelength_step=wavelength_step,\n",
    "                    hottest_star=hottest_star, coolest_star=coolest_star,sed_list=sed_list, pad_image=pad_image)\n",
    "\n",
    "obs_image_u_B=cat_image(seed=seed, psf=psf,n_star=n_star, x_size=dimension, y_size=dimension,\n",
    "                    sky_noise=sky_noise, photon_noise=photon_noise,verbose=verbose,\n",
    "                     instrument_noise=instrument_noise, pixel_scale=pixel_scale, dcr_flag=True,\n",
    "                     elevation=obs_elevation, azimuth=obs_azimuth, band_name=band_name, wavelength_step=wavelength_step,\n",
    "                     hottest_star=hottest_star, coolest_star=coolest_star,sed_list=sed_list, pad_image=pad_image)\n",
    "look(ref_image_u_B - obs_image_u_B, range=[-0.02, 0.02])"
   ]
  },
  {
   "cell_type": "code",
   "execution_count": null,
   "metadata": {
    "collapsed": true
   },
   "outputs": [],
   "source": [
    "band_name = 'u'  # vaild options are 'u', 'g', 'r', 'i', 'z', or 'y'\n",
    "hottest_star='A' # vaild options are None (defaults to 'A') or any stellar type OBAFGKM hotter than coolest star\n",
    "coolest_star='A' # vaild options are None (defaults to 'M') or any stellar type OBAFGKM cooler than hottest star\n",
    "\n",
    "ref_image_u_A=cat_image(seed=seed, psf=psf,n_star=n_star, x_size=dimension, y_size=dimension,\n",
    "                    sky_noise=sky_noise, photon_noise=photon_noise,verbose=verbose,\n",
    "                    instrument_noise=instrument_noise, pixel_scale=pixel_scale, dcr_flag=False,\n",
    "                    elevation=ref_elevation, azimuth=ref_azimuth, band_name=band_name, wavelength_step=wavelength_step,\n",
    "                    hottest_star=hottest_star, coolest_star=coolest_star,sed_list=sed_list, pad_image=pad_image)\n",
    "\n",
    "obs_image_u_A=cat_image(seed=seed, psf=psf,n_star=n_star, x_size=dimension, y_size=dimension,\n",
    "                    sky_noise=sky_noise, photon_noise=photon_noise,verbose=verbose,\n",
    "                     instrument_noise=instrument_noise, pixel_scale=pixel_scale, dcr_flag=True,\n",
    "                     elevation=obs_elevation, azimuth=obs_azimuth, band_name=band_name, wavelength_step=wavelength_step,\n",
    "                     hottest_star=hottest_star, coolest_star=coolest_star,sed_list=sed_list, pad_image=pad_image)\n",
    "look(ref_image_u_A - obs_image_u_A, range=[-0.02, 0.02])"
   ]
  },
  {
   "cell_type": "code",
   "execution_count": null,
   "metadata": {
    "collapsed": true
   },
   "outputs": [],
   "source": [
    "band_name = 'u'  # vaild options are 'u', 'g', 'r', 'i', 'z', or 'y'\n",
    "hottest_star='F' # vaild options are None (defaults to 'A') or any stellar type OBAFGKM hotter than coolest star\n",
    "coolest_star='F' # vaild options are None (defaults to 'M') or any stellar type OBAFGKM cooler than hottest star\n",
    "\n",
    "ref_image_u_F=cat_image(seed=seed, psf=psf,n_star=n_star, x_size=dimension, y_size=dimension,\n",
    "                    sky_noise=sky_noise, photon_noise=photon_noise,verbose=verbose,\n",
    "                    instrument_noise=instrument_noise, pixel_scale=pixel_scale, dcr_flag=False,\n",
    "                    elevation=ref_elevation, azimuth=ref_azimuth, band_name=band_name, wavelength_step=wavelength_step,\n",
    "                    hottest_star=hottest_star, coolest_star=coolest_star,sed_list=sed_list, pad_image=pad_image)\n",
    "\n",
    "obs_image_u_F=cat_image(seed=seed, psf=psf,n_star=n_star, x_size=dimension, y_size=dimension,\n",
    "                    sky_noise=sky_noise, photon_noise=photon_noise,verbose=verbose,\n",
    "                     instrument_noise=instrument_noise, pixel_scale=pixel_scale, dcr_flag=True,\n",
    "                     elevation=obs_elevation, azimuth=obs_azimuth, band_name=band_name, wavelength_step=wavelength_step,\n",
    "                     hottest_star=hottest_star, coolest_star=coolest_star,sed_list=sed_list, pad_image=pad_image)\n",
    "look(ref_image_u_F - obs_image_u_F, range=[-0.02, 0.02])"
   ]
  },
  {
   "cell_type": "code",
   "execution_count": null,
   "metadata": {
    "collapsed": true
   },
   "outputs": [],
   "source": [
    "band_name = 'u'  # vaild options are 'u', 'g', 'r', 'i', 'z', or 'y'\n",
    "hottest_star='G' # vaild options are None (defaults to 'A') or any stellar type OBAFGKM hotter than coolest star\n",
    "coolest_star='G' # vaild options are None (defaults to 'M') or any stellar type OBAFGKM cooler than hottest star\n",
    "\n",
    "ref_image_u_G=cat_image(seed=seed, psf=psf,n_star=n_star, x_size=dimension, y_size=dimension,\n",
    "                    sky_noise=sky_noise, photon_noise=photon_noise,verbose=verbose,\n",
    "                    instrument_noise=instrument_noise, pixel_scale=pixel_scale, dcr_flag=False,\n",
    "                    elevation=ref_elevation, azimuth=ref_azimuth, band_name=band_name, wavelength_step=wavelength_step,\n",
    "                    hottest_star=hottest_star, coolest_star=coolest_star,sed_list=sed_list, pad_image=pad_image)\n",
    "\n",
    "obs_image_u_G=cat_image(seed=seed, psf=psf,n_star=n_star, x_size=dimension, y_size=dimension,\n",
    "                    sky_noise=sky_noise, photon_noise=photon_noise,verbose=verbose,\n",
    "                     instrument_noise=instrument_noise, pixel_scale=pixel_scale, dcr_flag=True,\n",
    "                     elevation=obs_elevation, azimuth=obs_azimuth, band_name=band_name, wavelength_step=wavelength_step,\n",
    "                     hottest_star=hottest_star, coolest_star=coolest_star,sed_list=sed_list, pad_image=pad_image)\n",
    "look(ref_image_u_G - obs_image_u_G, range=[-0.02, 0.02])"
   ]
  },
  {
   "cell_type": "code",
   "execution_count": null,
   "metadata": {
    "collapsed": true
   },
   "outputs": [],
   "source": [
    "band_name = 'u'  # vaild options are 'u', 'g', 'r', 'i', 'z', or 'y'\n",
    "hottest_star='K' # vaild options are None (defaults to 'A') or any stellar type OBAFGKM hotter than coolest star\n",
    "coolest_star='K' # vaild options are None (defaults to 'M') or any stellar type OBAFGKM cooler than hottest star\n",
    "\n",
    "ref_image_u_K=cat_image(seed=seed, psf=psf,n_star=n_star, x_size=dimension, y_size=dimension,\n",
    "                    sky_noise=sky_noise, photon_noise=photon_noise,verbose=verbose,\n",
    "                    instrument_noise=instrument_noise, pixel_scale=pixel_scale, dcr_flag=False,\n",
    "                    elevation=ref_elevation, azimuth=ref_azimuth, band_name=band_name, wavelength_step=wavelength_step,\n",
    "                    hottest_star=hottest_star, coolest_star=coolest_star,sed_list=sed_list, pad_image=pad_image)\n",
    "\n",
    "obs_image_u_K=cat_image(seed=seed, psf=psf,n_star=n_star, x_size=dimension, y_size=dimension,\n",
    "                    sky_noise=sky_noise, photon_noise=photon_noise,verbose=verbose,\n",
    "                     instrument_noise=instrument_noise, pixel_scale=pixel_scale, dcr_flag=True,\n",
    "                     elevation=obs_elevation, azimuth=obs_azimuth, band_name=band_name, wavelength_step=wavelength_step,\n",
    "                     hottest_star=hottest_star, coolest_star=coolest_star,sed_list=sed_list, pad_image=pad_image)\n",
    "look(ref_image_u_K - obs_image_u_K, range=[-0.02, 0.02])"
   ]
  },
  {
   "cell_type": "code",
   "execution_count": null,
   "metadata": {
    "collapsed": true
   },
   "outputs": [],
   "source": [
    "band_name = 'g'  # vaild options are 'u', 'g', 'r', 'i', 'z', or 'y'\n",
    "hottest_star='O' # vaild options are None (defaults to 'A') or any stellar type OBAFGKM hotter than coolest star\n",
    "coolest_star='O' # vaild options are None (defaults to 'M') or any stellar type OBAFGKM cooler than hottest star\n",
    "\n",
    "ref_image_g_O=cat_image(seed=seed, psf=psf,n_star=n_star, x_size=dimension, y_size=dimension,\n",
    "                    sky_noise=sky_noise, photon_noise=photon_noise,verbose=verbose,\n",
    "                    instrument_noise=instrument_noise, pixel_scale=pixel_scale, dcr_flag=False,\n",
    "                    elevation=ref_elevation, azimuth=ref_azimuth, band_name=band_name, wavelength_step=wavelength_step,\n",
    "                    hottest_star=hottest_star, coolest_star=coolest_star,sed_list=sed_list, pad_image=pad_image)\n",
    "\n",
    "obs_image_g_O=cat_image(seed=seed, psf=psf,n_star=n_star, x_size=dimension, y_size=dimension,\n",
    "                    sky_noise=sky_noise, photon_noise=photon_noise,verbose=verbose,\n",
    "                     instrument_noise=instrument_noise, pixel_scale=pixel_scale, dcr_flag=True,\n",
    "                     elevation=obs_elevation, azimuth=obs_azimuth, band_name=band_name, wavelength_step=wavelength_step,\n",
    "                     hottest_star=hottest_star, coolest_star=coolest_star,sed_list=sed_list, pad_image=pad_image)\n",
    "look(ref_image_g_O - obs_image_g_O, range=[-0.02, 0.02])"
   ]
  },
  {
   "cell_type": "code",
   "execution_count": null,
   "metadata": {
    "collapsed": true
   },
   "outputs": [],
   "source": [
    "band_name = 'g'  # vaild options are 'u', 'g', 'r', 'i', 'z', or 'y'\n",
    "hottest_star='B' # vaild options are None (defaults to 'A') or any stellar type OBAFGKM hotter than coolest star\n",
    "coolest_star='B' # vaild options are None (defaults to 'M') or any stellar type OBAFGKM cooler than hottest star\n",
    "\n",
    "ref_image_g_B=cat_image(seed=seed, psf=psf,n_star=n_star, x_size=dimension, y_size=dimension,\n",
    "                    sky_noise=sky_noise, photon_noise=photon_noise,verbose=verbose,\n",
    "                    instrument_noise=instrument_noise, pixel_scale=pixel_scale, dcr_flag=False,\n",
    "                    elevation=ref_elevation, azimuth=ref_azimuth, band_name=band_name, wavelength_step=wavelength_step,\n",
    "                    hottest_star=hottest_star, coolest_star=coolest_star,sed_list=sed_list, pad_image=pad_image)\n",
    "\n",
    "obs_image_g_B=cat_image(seed=seed, psf=psf,n_star=n_star, x_size=dimension, y_size=dimension,\n",
    "                    sky_noise=sky_noise, photon_noise=photon_noise,verbose=verbose,\n",
    "                     instrument_noise=instrument_noise, pixel_scale=pixel_scale, dcr_flag=True,\n",
    "                     elevation=obs_elevation, azimuth=obs_azimuth, band_name=band_name, wavelength_step=wavelength_step,\n",
    "                     hottest_star=hottest_star, coolest_star=coolest_star,sed_list=sed_list, pad_image=pad_image)\n",
    "look(ref_image_g_B - obs_image_g_B, range=[-0.02, 0.02])"
   ]
  },
  {
   "cell_type": "code",
   "execution_count": null,
   "metadata": {
    "collapsed": true
   },
   "outputs": [],
   "source": [
    "band_name = 'g'  # vaild options are 'u', 'g', 'r', 'i', 'z', or 'y'\n",
    "hottest_star='A' # vaild options are None (defaults to 'A') or any stellar type OBAFGKM hotter than coolest star\n",
    "coolest_star='A' # vaild options are None (defaults to 'M') or any stellar type OBAFGKM cooler than hottest star\n",
    "\n",
    "ref_image_g_A=cat_image(seed=seed, psf=psf,n_star=n_star, x_size=dimension, y_size=dimension,\n",
    "                    sky_noise=sky_noise, photon_noise=photon_noise,verbose=verbose,\n",
    "                    instrument_noise=instrument_noise, pixel_scale=pixel_scale, dcr_flag=False,\n",
    "                    elevation=ref_elevation, azimuth=ref_azimuth, band_name=band_name, wavelength_step=wavelength_step,\n",
    "                    hottest_star=hottest_star, coolest_star=coolest_star,sed_list=sed_list, pad_image=pad_image)\n",
    "\n",
    "obs_image_g_A=cat_image(seed=seed, psf=psf,n_star=n_star, x_size=dimension, y_size=dimension,\n",
    "                    sky_noise=sky_noise, photon_noise=photon_noise,verbose=verbose,\n",
    "                     instrument_noise=instrument_noise, pixel_scale=pixel_scale, dcr_flag=True,\n",
    "                     elevation=obs_elevation, azimuth=obs_azimuth, band_name=band_name, wavelength_step=wavelength_step,\n",
    "                     hottest_star=hottest_star, coolest_star=coolest_star,sed_list=sed_list, pad_image=pad_image)\n",
    "look(ref_image_g_A - obs_image_g_A, range=[-0.02, 0.02])"
   ]
  },
  {
   "cell_type": "code",
   "execution_count": null,
   "metadata": {
    "collapsed": true
   },
   "outputs": [],
   "source": [
    "band_name = 'g'  # vaild options are 'u', 'g', 'r', 'i', 'z', or 'y'\n",
    "hottest_star='F' # vaild options are None (defaults to 'A') or any stellar type OBAFGKM hotter than coolest star\n",
    "coolest_star='F' # vaild options are None (defaults to 'M') or any stellar type OBAFGKM cooler than hottest star\n",
    "\n",
    "ref_image_g_F=cat_image(seed=seed, psf=psf,n_star=n_star, x_size=dimension, y_size=dimension,\n",
    "                    sky_noise=sky_noise, photon_noise=photon_noise,verbose=verbose,\n",
    "                    instrument_noise=instrument_noise, pixel_scale=pixel_scale, dcr_flag=False,\n",
    "                    elevation=ref_elevation, azimuth=ref_azimuth, band_name=band_name, wavelength_step=wavelength_step,\n",
    "                    hottest_star=hottest_star, coolest_star=coolest_star,sed_list=sed_list, pad_image=pad_image)\n",
    "\n",
    "obs_image_g_F=cat_image(seed=seed, psf=psf,n_star=n_star, x_size=dimension, y_size=dimension,\n",
    "                    sky_noise=sky_noise, photon_noise=photon_noise,verbose=verbose,\n",
    "                     instrument_noise=instrument_noise, pixel_scale=pixel_scale, dcr_flag=True,\n",
    "                     elevation=obs_elevation, azimuth=obs_azimuth, band_name=band_name, wavelength_step=wavelength_step,\n",
    "                     hottest_star=hottest_star, coolest_star=coolest_star,sed_list=sed_list, pad_image=pad_image)\n",
    "look(ref_image_g_F - obs_image_g_F, range=[-0.02, 0.02])"
   ]
  },
  {
   "cell_type": "code",
   "execution_count": null,
   "metadata": {
    "collapsed": true
   },
   "outputs": [],
   "source": [
    "band_name = 'g'  # vaild options are 'u', 'g', 'r', 'i', 'z', or 'y'\n",
    "hottest_star='G' # vaild options are None (defaults to 'A') or any stellar type OBAFGKM hotter than coolest star\n",
    "coolest_star='G' # vaild options are None (defaults to 'M') or any stellar type OBAFGKM cooler than hottest star\n",
    "\n",
    "ref_image_g_G=cat_image(seed=seed, psf=psf,n_star=n_star, x_size=dimension, y_size=dimension,\n",
    "                    sky_noise=sky_noise, photon_noise=photon_noise,verbose=verbose,\n",
    "                    instrument_noise=instrument_noise, pixel_scale=pixel_scale, dcr_flag=False,\n",
    "                    elevation=ref_elevation, azimuth=ref_azimuth, band_name=band_name, wavelength_step=wavelength_step,\n",
    "                    hottest_star=hottest_star, coolest_star=coolest_star,sed_list=sed_list, pad_image=pad_image)\n",
    "\n",
    "obs_image_g_G=cat_image(seed=seed, psf=psf,n_star=n_star, x_size=dimension, y_size=dimension,\n",
    "                    sky_noise=sky_noise, photon_noise=photon_noise,verbose=verbose,\n",
    "                     instrument_noise=instrument_noise, pixel_scale=pixel_scale, dcr_flag=True,\n",
    "                     elevation=obs_elevation, azimuth=obs_azimuth, band_name=band_name, wavelength_step=wavelength_step,\n",
    "                     hottest_star=hottest_star, coolest_star=coolest_star,sed_list=sed_list, pad_image=pad_image)\n",
    "look(ref_image_g_G - obs_image_g_G, range=[-0.02, 0.02])"
   ]
  },
  {
   "cell_type": "code",
   "execution_count": null,
   "metadata": {
    "collapsed": false
   },
   "outputs": [],
   "source": [
    "band_name = 'g'  # vaild options are 'u', 'g', 'r', 'i', 'z', or 'y'\n",
    "hottest_star='K' # vaild options are None (defaults to 'A') or any stellar type OBAFGKM hotter than coolest star\n",
    "coolest_star='K' # vaild options are None (defaults to 'M') or any stellar type OBAFGKM cooler than hottest star\n",
    "\n",
    "ref_image_g_K=cat_image(seed=seed, psf=psf,n_star=n_star, x_size=dimension, y_size=dimension,\n",
    "                    sky_noise=sky_noise, photon_noise=photon_noise,verbose=verbose,\n",
    "                    instrument_noise=instrument_noise, pixel_scale=pixel_scale, dcr_flag=False,\n",
    "                    elevation=ref_elevation, azimuth=ref_azimuth, band_name=band_name, wavelength_step=wavelength_step,\n",
    "                    hottest_star=hottest_star, coolest_star=coolest_star,sed_list=sed_list, pad_image=pad_image)\n",
    "\n",
    "obs_image_g_K=cat_image(seed=seed, psf=psf,n_star=n_star, x_size=dimension, y_size=dimension,\n",
    "                    sky_noise=sky_noise, photon_noise=photon_noise,verbose=verbose,\n",
    "                     instrument_noise=instrument_noise, pixel_scale=pixel_scale, dcr_flag=True,\n",
    "                     elevation=obs_elevation, azimuth=obs_azimuth, band_name=band_name, wavelength_step=wavelength_step,\n",
    "                     hottest_star=hottest_star, coolest_star=coolest_star,sed_list=sed_list, pad_image=pad_image)\n",
    "look(ref_image_g_K - obs_image_g_K, range=[-0.02, 0.02])"
   ]
  },
  {
   "cell_type": "code",
   "execution_count": null,
   "metadata": {
    "collapsed": true
   },
   "outputs": [],
   "source": []
  }
 ],
 "metadata": {
  "kernelspec": {
   "display_name": "Python 2",
   "language": "python",
   "name": "python2"
  },
  "language_info": {
   "codemirror_mode": {
    "name": "ipython",
    "version": 2
   },
   "file_extension": ".py",
   "mimetype": "text/x-python",
   "name": "python",
   "nbconvert_exporter": "python",
   "pygments_lexer": "ipython2",
   "version": "2.7.11"
  }
 },
 "nbformat": 4,
 "nbformat_minor": 0
}
