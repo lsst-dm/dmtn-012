{
 "cells": [
  {
   "cell_type": "code",
   "execution_count": 1,
   "metadata": {
    "collapsed": false
   },
   "outputs": [],
   "source": [
    "%matplotlib inline\n",
    "import galsim \n",
    "import lsst.afw.geom as afwGeom\n",
    "from lsst.sims.photUtils import matchStar\n",
    "import numpy as np\n",
    "from generate_sim_catalog import cat_image\n",
    "from fast_dft import fast_dft"
   ]
  },
  {
   "cell_type": "code",
   "execution_count": null,
   "metadata": {
    "collapsed": true
   },
   "outputs": [],
   "source": [
    "%%capture\n",
    "matchStarObj=matchStar()\n",
    "sed_list = matchStarObj.loadKuruczSEDs()"
   ]
  },
  {
   "cell_type": "code",
   "execution_count": 2,
   "metadata": {
    "collapsed": false
   },
   "outputs": [
    {
     "name": "stdout",
     "output_type": "stream",
     "text": [
      "Loading 0 of 4885: Kurucz SEDs\n",
      "Loading 100 of 4885: Kurucz SEDs\n",
      "Loading 200 of 4885: Kurucz SEDs\n",
      "Loading 300 of 4885: Kurucz SEDs\n",
      "Loading 400 of 4885: Kurucz SEDs\n",
      "Loading 500 of 4885: Kurucz SEDs\n",
      "Loading 600 of 4885: Kurucz SEDs\n",
      "Loading 700 of 4885: Kurucz SEDs\n",
      "Loading 800 of 4885: Kurucz SEDs\n",
      "Loading 900 of 4885: Kurucz SEDs\n",
      "Loading 1000 of 4885: Kurucz SEDs\n",
      "Loading 1100 of 4885: Kurucz SEDs\n",
      "Loading 1200 of 4885: Kurucz SEDs\n",
      "Loading 1300 of 4885: Kurucz SEDs\n",
      "Loading 1400 of 4885: Kurucz SEDs\n",
      "Loading 1500 of 4885: Kurucz SEDs\n",
      "Loading 1600 of 4885: Kurucz SEDs\n",
      "Loading 1700 of 4885: Kurucz SEDs\n",
      "Loading 1800 of 4885: Kurucz SEDs\n",
      "Loading 1900 of 4885: Kurucz SEDs\n",
      "Loading 2000 of 4885: Kurucz SEDs\n",
      "Loading 2100 of 4885: Kurucz SEDs\n",
      "Loading 2200 of 4885: Kurucz SEDs\n",
      "Loading 2300 of 4885: Kurucz SEDs\n",
      "Loading 2400 of 4885: Kurucz SEDs\n",
      "Loading 2500 of 4885: Kurucz SEDs\n",
      "Loading 2600 of 4885: Kurucz SEDs\n",
      "Loading 2700 of 4885: Kurucz SEDs\n",
      "Loading 2800 of 4885: Kurucz SEDs\n",
      "Loading 2900 of 4885: Kurucz SEDs\n",
      "Loading 3000 of 4885: Kurucz SEDs\n",
      "Loading 3100 of 4885: Kurucz SEDs\n",
      "Loading 3200 of 4885: Kurucz SEDs\n",
      "Loading 3300 of 4885: Kurucz SEDs\n",
      "Loading 3400 of 4885: Kurucz SEDs\n",
      "Loading 3500 of 4885: Kurucz SEDs\n",
      "Loading 3600 of 4885: Kurucz SEDs\n",
      "Loading 3700 of 4885: Kurucz SEDs\n",
      "Loading 3800 of 4885: Kurucz SEDs\n",
      "Loading 3900 of 4885: Kurucz SEDs\n",
      "Loading 4000 of 4885: Kurucz SEDs\n",
      "Loading 4100 of 4885: Kurucz SEDs\n",
      "Loading 4200 of 4885: Kurucz SEDs\n",
      "Loading 4300 of 4885: Kurucz SEDs\n",
      "Loading 4400 of 4885: Kurucz SEDs\n",
      "Loading 4500 of 4885: Kurucz SEDs\n",
      "Loading 4600 of 4885: Kurucz SEDs\n",
      "Loading 4700 of 4885: Kurucz SEDs\n",
      "Loading 4800 of 4885: Kurucz SEDs\n",
      "Number and flux contribution of stars of each type:\n",
      " [M 768| 11.44%] [K 121| 21.74%] [G 81| 51.31%] [F 24| 6.79%] [A 6| 8.72%] [B 0| 0.00%]\n",
      "Time to model 977 stars: [6.521s | 0.00667s per star]\n",
      "FFT timing for 23 DCR planes: [1.787s | 0.078s per plane]\n",
      "Time to model 23 bright stars: [5.847s | 0.25423s per star]\n",
      "FFT timing for 23 DCR planes: [7.339s | 0.319s per plane]\n",
      "Number and flux contribution of stars of each type:\n",
      " [M 768| 11.44%] [K 121| 21.74%] [G 81| 51.31%] [F 24| 6.79%] [A 6| 8.72%] [B 0| 0.00%]\n",
      "Time to model 977 stars: [6.292s | 0.00644s per star]\n",
      "FFT timing for 23 DCR planes: [1.772s | 0.077s per plane]\n",
      "Time to model 23 bright stars: [6.531s | 0.28397s per star]\n",
      "FFT timing for 23 DCR planes: [7.899s | 0.343s per plane]\n"
     ]
    }
   ],
   "source": [
    "seed = 5\n",
    "dimension = 1024 # number of pixels on a side of the simulation\n",
    "pad_image = 1.5 # \n",
    "sky_noise = 0.0\n",
    "instrument_noise = 0.0\n",
    "photon_noise = False\n",
    "n_star = 10000\n",
    "pixel_scale = 0.25 # arcsec / pixel\n",
    "band_name = 'u'  # vaild options are 'u', 'g', 'r', 'i', 'z', or 'y'\n",
    "hottest_star='O' # vaild options are None (defaults to 'A') or any stellar type OBAFGKM hotter than coolest star\n",
    "coolest_star='K' # vaild options are None (defaults to 'M') or any stellar type OBAFGKM cooler than hottest star\n",
    "wavelength_step = 3 # wavelength bin size, in nm\n",
    "photons_per_adu = 1e4\n",
    "gsp = galsim.GSParams(folding_threshold=1.0/(dimension), maximum_fft_size=12288)\n",
    "psf = galsim.Kolmogorov(fwhm=1.0, flux=1, gsparams=gsp)\n",
    "\n",
    "ref_elevation = 85.0 # in degrees\n",
    "ref_azimuth = 0.0 # in degrees\n",
    "ref_image=cat_image(seed=seed, psf=psf,n_star=n_star, x_size=dimension, y_size=dimension,\n",
    "                    sky_noise=sky_noise, photon_noise=photon_noise,\n",
    "                    instrument_noise=instrument_noise, pixel_scale=pixel_scale, dcr_flag=False,\n",
    "                    elevation=ref_elevation, azimuth=ref_azimuth, band_name=band_name, wavelength_step=wavelength_step,\n",
    "                    hottest_star=hottest_star, coolest_star=coolest_star,sed_list=sed_list, pad_image=pad_image)\n",
    "\n",
    "obs_elevation = 70.0 # in degrees\n",
    "obs_azimuth = 20.0 # in degrees\n",
    "obs_image=cat_image(seed=seed, psf=psf,n_star=n_star, x_size=dimension, y_size=dimension,\n",
    "                    sky_noise=sky_noise, photon_noise=photon_noise,\n",
    "                     instrument_noise=instrument_noise, pixel_scale=pixel_scale, dcr_flag=True,\n",
    "                     elevation=obs_elevation, azimuth=obs_azimuth, band_name=band_name, wavelength_step=wavelength_step,\n",
    "                     hottest_star=hottest_star, coolest_star=coolest_star,sed_list=sed_list, pad_image=pad_image)"
   ]
  },
  {
   "cell_type": "code",
   "execution_count": null,
   "metadata": {
    "collapsed": true
   },
   "outputs": [],
   "source": [
    "import matplotlib.cm as cm\n",
    "from matplotlib import pyplot as plt\n",
    "def look(img, range=None, x_range=None, y_range=None):\n",
    "    \"\"\"Simple function to wrap matplotlib and display an image with a colorbar.\"\"\"\n",
    "    plt.figure(figsize=(8, 6))\n",
    "    if range is None:\n",
    "        range = [np.min(img), np.max(img)]\n",
    "    img_use = np.clip(img, range[0], range[1])\n",
    "    if x_range is not None:\n",
    "        x0 = int(x_range[0])\n",
    "        x1 = int(x_range[1])\n",
    "        if x0 < 0:\n",
    "            img_use = np.roll(img_use, -x0, axis=1)\n",
    "            x1 -= x0\n",
    "            x0 = 0\n",
    "        img_use = img_use[:, x0: x1]\n",
    "    if y_range is not None:\n",
    "        y0 = int(y_range[0])\n",
    "        y1 = int(y_range[1])\n",
    "        if y0 < 0:\n",
    "            img_use = np.roll(img_use, -y0, axis=0)\n",
    "            y1 -= y0\n",
    "            y0 = 0\n",
    "        img_use = img_use[y0: y1, :]\n",
    "    fig_show = plt.imshow(img_use, interpolation='none', origin='lower', cmap=cm.rainbow)\n",
    "    plt.colorbar(fig_show, orientation='vertical', shrink=1)\n",
    "#    cbar.set_label('DCR (arcsec)', labelpad=0)\n",
    "    plt.show()"
   ]
  },
  {
   "cell_type": "code",
   "execution_count": null,
   "metadata": {
    "collapsed": true
   },
   "outputs": [],
   "source": [
    "look(ref_image, range=[0.0,.01])\n",
    "look(obs_image, range=[0.0,.01])\n",
    "look(ref_image - obs_image, range=[-0.001, 0.001])"
   ]
  }
 ],
 "metadata": {
  "kernelspec": {
   "display_name": "Python 2",
   "language": "python",
   "name": "python2"
  },
  "language_info": {
   "codemirror_mode": {
    "name": "ipython",
    "version": 2
   },
   "file_extension": ".py",
   "mimetype": "text/x-python",
   "name": "python",
   "nbconvert_exporter": "python",
   "pygments_lexer": "ipython2",
   "version": "2.7.11"
  }
 },
 "nbformat": 4,
 "nbformat_minor": 0
}
